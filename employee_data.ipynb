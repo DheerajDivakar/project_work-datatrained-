{
 "cells": [
  {
   "cell_type": "code",
   "execution_count": 1,
   "metadata": {},
   "outputs": [],
   "source": [
    "import pandas as pd \n",
    "import numpy as np\n",
    "import matplotlib.pyplot as plt\n",
    "import seaborn as sns\n",
    "import warnings\n",
    "warnings.filterwarnings('ignore')"
   ]
  },
  {
   "cell_type": "code",
   "execution_count": 7,
   "metadata": {},
   "outputs": [
    {
     "data": {
      "text/html": [
       "<div>\n",
       "<style scoped>\n",
       "    .dataframe tbody tr th:only-of-type {\n",
       "        vertical-align: middle;\n",
       "    }\n",
       "\n",
       "    .dataframe tbody tr th {\n",
       "        vertical-align: top;\n",
       "    }\n",
       "\n",
       "    .dataframe thead th {\n",
       "        text-align: right;\n",
       "    }\n",
       "</style>\n",
       "<table border=\"1\" class=\"dataframe\">\n",
       "  <thead>\n",
       "    <tr style=\"text-align: right;\">\n",
       "      <th></th>\n",
       "      <th>Emp ID</th>\n",
       "      <th>Name Prefix</th>\n",
       "      <th>First Name</th>\n",
       "      <th>Middle Initial</th>\n",
       "      <th>Last Name</th>\n",
       "      <th>Gender</th>\n",
       "      <th>E Mail</th>\n",
       "      <th>Father's Name</th>\n",
       "      <th>Mother's Name</th>\n",
       "      <th>Mother's Maiden Name</th>\n",
       "      <th>...</th>\n",
       "      <th>SSN</th>\n",
       "      <th>Phone No.</th>\n",
       "      <th>Place Name</th>\n",
       "      <th>County</th>\n",
       "      <th>City</th>\n",
       "      <th>State</th>\n",
       "      <th>Zip</th>\n",
       "      <th>Region</th>\n",
       "      <th>User Name</th>\n",
       "      <th>Password</th>\n",
       "    </tr>\n",
       "  </thead>\n",
       "  <tbody>\n",
       "    <tr>\n",
       "      <th>0</th>\n",
       "      <td>850297</td>\n",
       "      <td>Ms.</td>\n",
       "      <td>Shawna</td>\n",
       "      <td>W</td>\n",
       "      <td>Buck</td>\n",
       "      <td>F</td>\n",
       "      <td>shawna.buck@gmail.com</td>\n",
       "      <td>Rosario Buck</td>\n",
       "      <td>Keisha Buck</td>\n",
       "      <td>Hendricks</td>\n",
       "      <td>...</td>\n",
       "      <td>222-11-7603</td>\n",
       "      <td>702-771-7149</td>\n",
       "      <td>Las Vegas</td>\n",
       "      <td>Clark</td>\n",
       "      <td>Las Vegas</td>\n",
       "      <td>NV</td>\n",
       "      <td>89128</td>\n",
       "      <td>West</td>\n",
       "      <td>swbuck</td>\n",
       "      <td>ja8?k3BTF^]o@&lt;&amp;</td>\n",
       "    </tr>\n",
       "    <tr>\n",
       "      <th>1</th>\n",
       "      <td>304721</td>\n",
       "      <td>Mr.</td>\n",
       "      <td>Nathaniel</td>\n",
       "      <td>Z</td>\n",
       "      <td>Burke</td>\n",
       "      <td>M</td>\n",
       "      <td>nathaniel.burke@walmart.com</td>\n",
       "      <td>Derrick Burke</td>\n",
       "      <td>Phoebe Burke</td>\n",
       "      <td>Pugh</td>\n",
       "      <td>...</td>\n",
       "      <td>550-99-9897</td>\n",
       "      <td>231-765-6923</td>\n",
       "      <td>Irons</td>\n",
       "      <td>Lake</td>\n",
       "      <td>Irons</td>\n",
       "      <td>MI</td>\n",
       "      <td>49644</td>\n",
       "      <td>Midwest</td>\n",
       "      <td>nzburke</td>\n",
       "      <td>tPA@4Wh9Ja$+Ln</td>\n",
       "    </tr>\n",
       "    <tr>\n",
       "      <th>2</th>\n",
       "      <td>412317</td>\n",
       "      <td>Drs.</td>\n",
       "      <td>Elisabeth</td>\n",
       "      <td>W</td>\n",
       "      <td>Foster</td>\n",
       "      <td>F</td>\n",
       "      <td>elisabeth.foster@gmail.com</td>\n",
       "      <td>Irwin Foster</td>\n",
       "      <td>Janie Foster</td>\n",
       "      <td>Delaney</td>\n",
       "      <td>...</td>\n",
       "      <td>215-91-0004</td>\n",
       "      <td>270-749-4774</td>\n",
       "      <td>Lexington</td>\n",
       "      <td>Fayette</td>\n",
       "      <td>Lexington</td>\n",
       "      <td>KY</td>\n",
       "      <td>40501</td>\n",
       "      <td>South</td>\n",
       "      <td>ewfoster</td>\n",
       "      <td>5D.B4IGNkWJfG&lt;~</td>\n",
       "    </tr>\n",
       "    <tr>\n",
       "      <th>3</th>\n",
       "      <td>621375</td>\n",
       "      <td>Mrs.</td>\n",
       "      <td>Briana</td>\n",
       "      <td>C</td>\n",
       "      <td>Lancaster</td>\n",
       "      <td>F</td>\n",
       "      <td>briana.lancaster@yahoo.com</td>\n",
       "      <td>Jeffrey Lancaster</td>\n",
       "      <td>Shelby Lancaster</td>\n",
       "      <td>Weiss</td>\n",
       "      <td>...</td>\n",
       "      <td>534-71-1053</td>\n",
       "      <td>219-623-8216</td>\n",
       "      <td>Munster</td>\n",
       "      <td>Lake</td>\n",
       "      <td>Munster</td>\n",
       "      <td>IN</td>\n",
       "      <td>46321</td>\n",
       "      <td>Midwest</td>\n",
       "      <td>bclancaster</td>\n",
       "      <td>I%?JDM;pW</td>\n",
       "    </tr>\n",
       "    <tr>\n",
       "      <th>4</th>\n",
       "      <td>787549</td>\n",
       "      <td>Hon.</td>\n",
       "      <td>Estella</td>\n",
       "      <td>L</td>\n",
       "      <td>Potter</td>\n",
       "      <td>F</td>\n",
       "      <td>estella.potter@gmail.com</td>\n",
       "      <td>Booker Potter</td>\n",
       "      <td>Katelyn Potter</td>\n",
       "      <td>Pate</td>\n",
       "      <td>...</td>\n",
       "      <td>644-29-6396</td>\n",
       "      <td>907-677-8486</td>\n",
       "      <td>Fairbanks</td>\n",
       "      <td>Fairbanks North Star</td>\n",
       "      <td>Fairbanks</td>\n",
       "      <td>AK</td>\n",
       "      <td>99709</td>\n",
       "      <td>West</td>\n",
       "      <td>elpotter</td>\n",
       "      <td>j4jkEXfC&amp;Rh</td>\n",
       "    </tr>\n",
       "  </tbody>\n",
       "</table>\n",
       "<p>5 rows × 37 columns</p>\n",
       "</div>"
      ],
      "text/plain": [
       "   Emp ID Name Prefix First Name Middle Initial  Last Name Gender  \\\n",
       "0  850297         Ms.     Shawna              W       Buck      F   \n",
       "1  304721         Mr.  Nathaniel              Z      Burke      M   \n",
       "2  412317        Drs.  Elisabeth              W     Foster      F   \n",
       "3  621375        Mrs.     Briana              C  Lancaster      F   \n",
       "4  787549        Hon.    Estella              L     Potter      F   \n",
       "\n",
       "                        E Mail      Father's Name     Mother's Name  \\\n",
       "0        shawna.buck@gmail.com       Rosario Buck       Keisha Buck   \n",
       "1  nathaniel.burke@walmart.com      Derrick Burke      Phoebe Burke   \n",
       "2   elisabeth.foster@gmail.com       Irwin Foster      Janie Foster   \n",
       "3   briana.lancaster@yahoo.com  Jeffrey Lancaster  Shelby Lancaster   \n",
       "4     estella.potter@gmail.com      Booker Potter    Katelyn Potter   \n",
       "\n",
       "  Mother's Maiden Name  ...          SSN    Phone No.   Place Name  \\\n",
       "0            Hendricks  ...  222-11-7603  702-771-7149   Las Vegas   \n",
       "1                 Pugh  ...  550-99-9897  231-765-6923       Irons   \n",
       "2              Delaney  ...  215-91-0004  270-749-4774   Lexington   \n",
       "3                Weiss  ...  534-71-1053  219-623-8216     Munster   \n",
       "4                 Pate  ...  644-29-6396  907-677-8486   Fairbanks   \n",
       "\n",
       "                 County       City State    Zip   Region    User Name  \\\n",
       "0                 Clark  Las Vegas    NV  89128     West       swbuck   \n",
       "1                  Lake      Irons    MI  49644  Midwest      nzburke   \n",
       "2               Fayette  Lexington    KY  40501    South     ewfoster   \n",
       "3                  Lake    Munster    IN  46321  Midwest  bclancaster   \n",
       "4  Fairbanks North Star  Fairbanks    AK  99709     West     elpotter   \n",
       "\n",
       "          Password  \n",
       "0  ja8?k3BTF^]o@<&  \n",
       "1   tPA@4Wh9Ja$+Ln  \n",
       "2  5D.B4IGNkWJfG<~  \n",
       "3        I%?JDM;pW  \n",
       "4      j4jkEXfC&Rh  \n",
       "\n",
       "[5 rows x 37 columns]"
      ]
     },
     "execution_count": 7,
     "metadata": {},
     "output_type": "execute_result"
    }
   ],
   "source": [
    "df=pd.read_csv(\"1000_employee.csv\")\n",
    "df.head()"
   ]
  },
  {
   "cell_type": "code",
   "execution_count": 8,
   "metadata": {},
   "outputs": [
    {
     "data": {
      "text/html": [
       "<div>\n",
       "<style scoped>\n",
       "    .dataframe tbody tr th:only-of-type {\n",
       "        vertical-align: middle;\n",
       "    }\n",
       "\n",
       "    .dataframe tbody tr th {\n",
       "        vertical-align: top;\n",
       "    }\n",
       "\n",
       "    .dataframe thead th {\n",
       "        text-align: right;\n",
       "    }\n",
       "</style>\n",
       "<table border=\"1\" class=\"dataframe\">\n",
       "  <thead>\n",
       "    <tr style=\"text-align: right;\">\n",
       "      <th></th>\n",
       "      <th>Emp ID</th>\n",
       "      <th>Age in Yrs.</th>\n",
       "      <th>Weight in Kgs.</th>\n",
       "      <th>Year of Joining</th>\n",
       "      <th>Month of Joining</th>\n",
       "      <th>Day of Joining</th>\n",
       "      <th>Age in Company (Years)</th>\n",
       "      <th>Salary</th>\n",
       "      <th>Zip</th>\n",
       "    </tr>\n",
       "  </thead>\n",
       "  <tbody>\n",
       "    <tr>\n",
       "      <th>count</th>\n",
       "      <td>1000.000000</td>\n",
       "      <td>1000.000000</td>\n",
       "      <td>1000.000000</td>\n",
       "      <td>1000.000000</td>\n",
       "      <td>1000.000000</td>\n",
       "      <td>1000.000000</td>\n",
       "      <td>1000.000000</td>\n",
       "      <td>1000.000000</td>\n",
       "      <td>1000.000000</td>\n",
       "    </tr>\n",
       "    <tr>\n",
       "      <th>mean</th>\n",
       "      <td>549097.583000</td>\n",
       "      <td>40.377250</td>\n",
       "      <td>59.409000</td>\n",
       "      <td>2006.992000</td>\n",
       "      <td>6.415000</td>\n",
       "      <td>16.481000</td>\n",
       "      <td>10.093720</td>\n",
       "      <td>120288.528000</td>\n",
       "      <td>48698.499000</td>\n",
       "    </tr>\n",
       "    <tr>\n",
       "      <th>std</th>\n",
       "      <td>264810.879315</td>\n",
       "      <td>11.107729</td>\n",
       "      <td>13.900322</td>\n",
       "      <td>8.565588</td>\n",
       "      <td>3.428488</td>\n",
       "      <td>8.831514</td>\n",
       "      <td>8.568863</td>\n",
       "      <td>45178.339916</td>\n",
       "      <td>27396.021481</td>\n",
       "    </tr>\n",
       "    <tr>\n",
       "      <th>min</th>\n",
       "      <td>114425.000000</td>\n",
       "      <td>21.040000</td>\n",
       "      <td>40.000000</td>\n",
       "      <td>1980.000000</td>\n",
       "      <td>1.000000</td>\n",
       "      <td>1.000000</td>\n",
       "      <td>0.000000</td>\n",
       "      <td>40040.000000</td>\n",
       "      <td>1002.000000</td>\n",
       "    </tr>\n",
       "    <tr>\n",
       "      <th>25%</th>\n",
       "      <td>307757.000000</td>\n",
       "      <td>30.925000</td>\n",
       "      <td>49.000000</td>\n",
       "      <td>2002.000000</td>\n",
       "      <td>4.000000</td>\n",
       "      <td>9.000000</td>\n",
       "      <td>3.152500</td>\n",
       "      <td>82122.000000</td>\n",
       "      <td>25421.750000</td>\n",
       "    </tr>\n",
       "    <tr>\n",
       "      <th>50%</th>\n",
       "      <td>543073.000000</td>\n",
       "      <td>40.730000</td>\n",
       "      <td>57.000000</td>\n",
       "      <td>2009.000000</td>\n",
       "      <td>6.000000</td>\n",
       "      <td>17.000000</td>\n",
       "      <td>7.815000</td>\n",
       "      <td>119409.000000</td>\n",
       "      <td>47416.500000</td>\n",
       "    </tr>\n",
       "    <tr>\n",
       "      <th>75%</th>\n",
       "      <td>788450.250000</td>\n",
       "      <td>49.852500</td>\n",
       "      <td>68.000000</td>\n",
       "      <td>2014.000000</td>\n",
       "      <td>10.000000</td>\n",
       "      <td>24.000000</td>\n",
       "      <td>15.465000</td>\n",
       "      <td>159109.000000</td>\n",
       "      <td>71101.000000</td>\n",
       "    </tr>\n",
       "    <tr>\n",
       "      <th>max</th>\n",
       "      <td>999475.000000</td>\n",
       "      <td>59.980000</td>\n",
       "      <td>90.000000</td>\n",
       "      <td>2017.000000</td>\n",
       "      <td>12.000000</td>\n",
       "      <td>31.000000</td>\n",
       "      <td>37.570000</td>\n",
       "      <td>199943.000000</td>\n",
       "      <td>99791.000000</td>\n",
       "    </tr>\n",
       "  </tbody>\n",
       "</table>\n",
       "</div>"
      ],
      "text/plain": [
       "              Emp ID  Age in Yrs.  Weight in Kgs.  Year of Joining  \\\n",
       "count    1000.000000  1000.000000     1000.000000      1000.000000   \n",
       "mean   549097.583000    40.377250       59.409000      2006.992000   \n",
       "std    264810.879315    11.107729       13.900322         8.565588   \n",
       "min    114425.000000    21.040000       40.000000      1980.000000   \n",
       "25%    307757.000000    30.925000       49.000000      2002.000000   \n",
       "50%    543073.000000    40.730000       57.000000      2009.000000   \n",
       "75%    788450.250000    49.852500       68.000000      2014.000000   \n",
       "max    999475.000000    59.980000       90.000000      2017.000000   \n",
       "\n",
       "       Month of Joining  Day of Joining  Age in Company (Years)  \\\n",
       "count       1000.000000     1000.000000             1000.000000   \n",
       "mean           6.415000       16.481000               10.093720   \n",
       "std            3.428488        8.831514                8.568863   \n",
       "min            1.000000        1.000000                0.000000   \n",
       "25%            4.000000        9.000000                3.152500   \n",
       "50%            6.000000       17.000000                7.815000   \n",
       "75%           10.000000       24.000000               15.465000   \n",
       "max           12.000000       31.000000               37.570000   \n",
       "\n",
       "              Salary           Zip  \n",
       "count    1000.000000   1000.000000  \n",
       "mean   120288.528000  48698.499000  \n",
       "std     45178.339916  27396.021481  \n",
       "min     40040.000000   1002.000000  \n",
       "25%     82122.000000  25421.750000  \n",
       "50%    119409.000000  47416.500000  \n",
       "75%    159109.000000  71101.000000  \n",
       "max    199943.000000  99791.000000  "
      ]
     },
     "execution_count": 8,
     "metadata": {},
     "output_type": "execute_result"
    }
   ],
   "source": [
    "df.describe()"
   ]
  },
  {
   "cell_type": "code",
   "execution_count": 9,
   "metadata": {},
   "outputs": [
    {
     "name": "stdout",
     "output_type": "stream",
     "text": [
      "<class 'pandas.core.frame.DataFrame'>\n",
      "RangeIndex: 1000 entries, 0 to 999\n",
      "Data columns (total 37 columns):\n",
      " #   Column                  Non-Null Count  Dtype  \n",
      "---  ------                  --------------  -----  \n",
      " 0   Emp ID                  1000 non-null   int64  \n",
      " 1   Name Prefix             1000 non-null   object \n",
      " 2   First Name              1000 non-null   object \n",
      " 3   Middle Initial          1000 non-null   object \n",
      " 4   Last Name               1000 non-null   object \n",
      " 5   Gender                  1000 non-null   object \n",
      " 6   E Mail                  1000 non-null   object \n",
      " 7   Father's Name           1000 non-null   object \n",
      " 8   Mother's Name           1000 non-null   object \n",
      " 9   Mother's Maiden Name    1000 non-null   object \n",
      " 10  Date of Birth           1000 non-null   object \n",
      " 11  Time of Birth           1000 non-null   object \n",
      " 12  Age in Yrs.             1000 non-null   float64\n",
      " 13  Weight in Kgs.          1000 non-null   int64  \n",
      " 14  Date of Joining         1000 non-null   object \n",
      " 15  Quarter of Joining      1000 non-null   object \n",
      " 16  Half of Joining         1000 non-null   object \n",
      " 17  Year of Joining         1000 non-null   int64  \n",
      " 18  Month of Joining        1000 non-null   int64  \n",
      " 19  Month Name of Joining   1000 non-null   object \n",
      " 20  Short Month             1000 non-null   object \n",
      " 21  Day of Joining          1000 non-null   int64  \n",
      " 22  DOW of Joining          1000 non-null   object \n",
      " 23  Short DOW               1000 non-null   object \n",
      " 24  Age in Company (Years)  1000 non-null   float64\n",
      " 25  Salary                  1000 non-null   int64  \n",
      " 26  Last % Hike             1000 non-null   object \n",
      " 27  SSN                     1000 non-null   object \n",
      " 28  Phone No.               1000 non-null   object \n",
      " 29  Place Name              1000 non-null   object \n",
      " 30  County                  1000 non-null   object \n",
      " 31  City                    1000 non-null   object \n",
      " 32  State                   1000 non-null   object \n",
      " 33  Zip                     1000 non-null   int64  \n",
      " 34  Region                  1000 non-null   object \n",
      " 35  User Name               1000 non-null   object \n",
      " 36  Password                1000 non-null   object \n",
      "dtypes: float64(2), int64(7), object(28)\n",
      "memory usage: 289.2+ KB\n"
     ]
    }
   ],
   "source": [
    "df.info()"
   ]
  },
  {
   "cell_type": "code",
   "execution_count": 11,
   "metadata": {},
   "outputs": [
    {
     "data": {
      "text/plain": [
       "Emp ID                    0\n",
       "Name Prefix               0\n",
       "First Name                0\n",
       "Middle Initial            0\n",
       "Last Name                 0\n",
       "Gender                    0\n",
       "E Mail                    0\n",
       "Father's Name             0\n",
       "Mother's Name             0\n",
       "Mother's Maiden Name      0\n",
       "Date of Birth             0\n",
       "Time of Birth             0\n",
       "Age in Yrs.               0\n",
       "Weight in Kgs.            0\n",
       "Date of Joining           0\n",
       "Quarter of Joining        0\n",
       "Half of Joining           0\n",
       "Year of Joining           0\n",
       "Month of Joining          0\n",
       "Month Name of Joining     0\n",
       "Short Month               0\n",
       "Day of Joining            0\n",
       "DOW of Joining            0\n",
       "Short DOW                 0\n",
       "Age in Company (Years)    0\n",
       "Salary                    0\n",
       "Last % Hike               0\n",
       "SSN                       0\n",
       "Phone No.                 0\n",
       "Place Name                0\n",
       "County                    0\n",
       "City                      0\n",
       "State                     0\n",
       "Zip                       0\n",
       "Region                    0\n",
       "User Name                 0\n",
       "Password                  0\n",
       "dtype: int64"
      ]
     },
     "execution_count": 11,
     "metadata": {},
     "output_type": "execute_result"
    }
   ],
   "source": [
    "df.isnull().sum()"
   ]
  },
  {
   "cell_type": "code",
   "execution_count": 12,
   "metadata": {},
   "outputs": [
    {
     "data": {
      "text/html": [
       "<div>\n",
       "<style scoped>\n",
       "    .dataframe tbody tr th:only-of-type {\n",
       "        vertical-align: middle;\n",
       "    }\n",
       "\n",
       "    .dataframe tbody tr th {\n",
       "        vertical-align: top;\n",
       "    }\n",
       "\n",
       "    .dataframe thead th {\n",
       "        text-align: right;\n",
       "    }\n",
       "</style>\n",
       "<table border=\"1\" class=\"dataframe\">\n",
       "  <thead>\n",
       "    <tr style=\"text-align: right;\">\n",
       "      <th></th>\n",
       "      <th>Emp ID</th>\n",
       "      <th>Age in Yrs.</th>\n",
       "      <th>Weight in Kgs.</th>\n",
       "      <th>Year of Joining</th>\n",
       "      <th>Month of Joining</th>\n",
       "      <th>Day of Joining</th>\n",
       "      <th>Age in Company (Years)</th>\n",
       "      <th>Salary</th>\n",
       "      <th>Zip</th>\n",
       "    </tr>\n",
       "  </thead>\n",
       "  <tbody>\n",
       "    <tr>\n",
       "      <th>Emp ID</th>\n",
       "      <td>1.000000</td>\n",
       "      <td>-0.028516</td>\n",
       "      <td>0.028175</td>\n",
       "      <td>0.039009</td>\n",
       "      <td>0.000999</td>\n",
       "      <td>0.006178</td>\n",
       "      <td>-0.039064</td>\n",
       "      <td>-0.027248</td>\n",
       "      <td>0.020033</td>\n",
       "    </tr>\n",
       "    <tr>\n",
       "      <th>Age in Yrs.</th>\n",
       "      <td>-0.028516</td>\n",
       "      <td>1.000000</td>\n",
       "      <td>-0.065656</td>\n",
       "      <td>-0.676875</td>\n",
       "      <td>0.022617</td>\n",
       "      <td>-0.026387</td>\n",
       "      <td>0.676408</td>\n",
       "      <td>0.041422</td>\n",
       "      <td>-0.017266</td>\n",
       "    </tr>\n",
       "    <tr>\n",
       "      <th>Weight in Kgs.</th>\n",
       "      <td>0.028175</td>\n",
       "      <td>-0.065656</td>\n",
       "      <td>1.000000</td>\n",
       "      <td>0.058794</td>\n",
       "      <td>0.003933</td>\n",
       "      <td>-0.038591</td>\n",
       "      <td>-0.058846</td>\n",
       "      <td>0.061088</td>\n",
       "      <td>-0.021019</td>\n",
       "    </tr>\n",
       "    <tr>\n",
       "      <th>Year of Joining</th>\n",
       "      <td>0.039009</td>\n",
       "      <td>-0.676875</td>\n",
       "      <td>0.058794</td>\n",
       "      <td>1.000000</td>\n",
       "      <td>-0.029644</td>\n",
       "      <td>0.040820</td>\n",
       "      <td>-0.999435</td>\n",
       "      <td>-0.053501</td>\n",
       "      <td>0.027221</td>\n",
       "    </tr>\n",
       "    <tr>\n",
       "      <th>Month of Joining</th>\n",
       "      <td>0.000999</td>\n",
       "      <td>0.022617</td>\n",
       "      <td>0.003933</td>\n",
       "      <td>-0.029644</td>\n",
       "      <td>1.000000</td>\n",
       "      <td>0.046362</td>\n",
       "      <td>-0.003848</td>\n",
       "      <td>-0.019298</td>\n",
       "      <td>-0.028749</td>\n",
       "    </tr>\n",
       "    <tr>\n",
       "      <th>Day of Joining</th>\n",
       "      <td>0.006178</td>\n",
       "      <td>-0.026387</td>\n",
       "      <td>-0.038591</td>\n",
       "      <td>0.040820</td>\n",
       "      <td>0.046362</td>\n",
       "      <td>1.000000</td>\n",
       "      <td>-0.045185</td>\n",
       "      <td>-0.018947</td>\n",
       "      <td>0.028209</td>\n",
       "    </tr>\n",
       "    <tr>\n",
       "      <th>Age in Company (Years)</th>\n",
       "      <td>-0.039064</td>\n",
       "      <td>0.676408</td>\n",
       "      <td>-0.058846</td>\n",
       "      <td>-0.999435</td>\n",
       "      <td>-0.003848</td>\n",
       "      <td>-0.045185</td>\n",
       "      <td>1.000000</td>\n",
       "      <td>0.054212</td>\n",
       "      <td>-0.026359</td>\n",
       "    </tr>\n",
       "    <tr>\n",
       "      <th>Salary</th>\n",
       "      <td>-0.027248</td>\n",
       "      <td>0.041422</td>\n",
       "      <td>0.061088</td>\n",
       "      <td>-0.053501</td>\n",
       "      <td>-0.019298</td>\n",
       "      <td>-0.018947</td>\n",
       "      <td>0.054212</td>\n",
       "      <td>1.000000</td>\n",
       "      <td>0.007518</td>\n",
       "    </tr>\n",
       "    <tr>\n",
       "      <th>Zip</th>\n",
       "      <td>0.020033</td>\n",
       "      <td>-0.017266</td>\n",
       "      <td>-0.021019</td>\n",
       "      <td>0.027221</td>\n",
       "      <td>-0.028749</td>\n",
       "      <td>0.028209</td>\n",
       "      <td>-0.026359</td>\n",
       "      <td>0.007518</td>\n",
       "      <td>1.000000</td>\n",
       "    </tr>\n",
       "  </tbody>\n",
       "</table>\n",
       "</div>"
      ],
      "text/plain": [
       "                          Emp ID  Age in Yrs.  Weight in Kgs.  \\\n",
       "Emp ID                  1.000000    -0.028516        0.028175   \n",
       "Age in Yrs.            -0.028516     1.000000       -0.065656   \n",
       "Weight in Kgs.          0.028175    -0.065656        1.000000   \n",
       "Year of Joining         0.039009    -0.676875        0.058794   \n",
       "Month of Joining        0.000999     0.022617        0.003933   \n",
       "Day of Joining          0.006178    -0.026387       -0.038591   \n",
       "Age in Company (Years) -0.039064     0.676408       -0.058846   \n",
       "Salary                 -0.027248     0.041422        0.061088   \n",
       "Zip                     0.020033    -0.017266       -0.021019   \n",
       "\n",
       "                        Year of Joining  Month of Joining  Day of Joining  \\\n",
       "Emp ID                         0.039009          0.000999        0.006178   \n",
       "Age in Yrs.                   -0.676875          0.022617       -0.026387   \n",
       "Weight in Kgs.                 0.058794          0.003933       -0.038591   \n",
       "Year of Joining                1.000000         -0.029644        0.040820   \n",
       "Month of Joining              -0.029644          1.000000        0.046362   \n",
       "Day of Joining                 0.040820          0.046362        1.000000   \n",
       "Age in Company (Years)        -0.999435         -0.003848       -0.045185   \n",
       "Salary                        -0.053501         -0.019298       -0.018947   \n",
       "Zip                            0.027221         -0.028749        0.028209   \n",
       "\n",
       "                        Age in Company (Years)    Salary       Zip  \n",
       "Emp ID                               -0.039064 -0.027248  0.020033  \n",
       "Age in Yrs.                           0.676408  0.041422 -0.017266  \n",
       "Weight in Kgs.                       -0.058846  0.061088 -0.021019  \n",
       "Year of Joining                      -0.999435 -0.053501  0.027221  \n",
       "Month of Joining                     -0.003848 -0.019298 -0.028749  \n",
       "Day of Joining                       -0.045185 -0.018947  0.028209  \n",
       "Age in Company (Years)                1.000000  0.054212 -0.026359  \n",
       "Salary                                0.054212  1.000000  0.007518  \n",
       "Zip                                  -0.026359  0.007518  1.000000  "
      ]
     },
     "execution_count": 12,
     "metadata": {},
     "output_type": "execute_result"
    }
   ],
   "source": [
    "df.corr()"
   ]
  },
  {
   "cell_type": "code",
   "execution_count": 14,
   "metadata": {},
   "outputs": [
    {
     "data": {
      "text/plain": [
       "<matplotlib.axes._subplots.AxesSubplot at 0x1a583eee970>"
      ]
     },
     "execution_count": 14,
     "metadata": {},
     "output_type": "execute_result"
    },
    {
     "data": {
      "image/png": "[encoded data removed]",
      "text/plain": [
       "<Figure size 432x288 with 2 Axes>"
      ]
     },
     "metadata": {
      "needs_background": "light"
     },
     "output_type": "display_data"
    }
   ],
   "source": [
    "sns.heatmap(df.corr(),annot=True)"
   ]
  },
  {
   "cell_type": "code",
   "execution_count": 16,
   "metadata": {},
   "outputs": [],
   "source": [
    "df.drop(\"Emp ID\",axis=1,inplace=True)"
   ]
  },
  {
   "cell_type": "code",
   "execution_count": 19,
   "metadata": {},
   "outputs": [],
   "source": [
    "df.drop(\"Weight in Kgs.\",axis=1,inplace=True)"
   ]
  },
  {
   "cell_type": "markdown",
   "metadata": {},
   "source": [
    "# removing of outliers"
   ]
  },
  {
   "cell_type": "code",
   "execution_count": 20,
   "metadata": {},
   "outputs": [
    {
     "data": {
      "text/plain": [
       "Age in Yrs.                   AxesSubplot(0.125,0.71587;0.352273x0.16413)\n",
       "Year of Joining            AxesSubplot(0.547727,0.71587;0.352273x0.16413)\n",
       "Month of Joining             AxesSubplot(0.125,0.518913;0.352273x0.16413)\n",
       "Day of Joining            AxesSubplot(0.547727,0.518913;0.352273x0.16413)\n",
       "Age in Company (Years)       AxesSubplot(0.125,0.321957;0.352273x0.16413)\n",
       "Salary                    AxesSubplot(0.547727,0.321957;0.352273x0.16413)\n",
       "Zip                             AxesSubplot(0.125,0.125;0.352273x0.16413)\n",
       "dtype: object"
      ]
     },
     "execution_count": 20,
     "metadata": {},
     "output_type": "execute_result"
    },
    {
     "data": {
      "image/png": "[encoded data removed]",
      "text/plain": [
       "<Figure size 432x288 with 8 Axes>"
      ]
     },
     "metadata": {
      "needs_background": "light"
     },
     "output_type": "display_data"
    }
   ],
   "source": [
    "df.plot(kind='box',subplots=True,layout=(4,2))"
   ]
  },
  {
   "cell_type": "code",
   "execution_count": 35,
   "metadata": {},
   "outputs": [],
   "source": [
    "df.drop(\"First Name\",axis=1,inplace=True)"
   ]
  },
  {
   "cell_type": "code",
   "execution_count": 39,
   "metadata": {},
   "outputs": [],
   "source": [
    " \n",
    "df.drop(\"Name Prefix\",axis=1,inplace=True)      "
   ]
  },
  {
   "cell_type": "code",
   "execution_count": 46,
   "metadata": {},
   "outputs": [],
   "source": [
    "df.drop(\"Middle Initial\",axis=1,inplace=True)    "
   ]
  },
  {
   "cell_type": "code",
   "execution_count": 47,
   "metadata": {},
   "outputs": [],
   "source": [
    "df.drop(\"Last Name\",axis=1,inplace=True)   "
   ]
  },
  {
   "cell_type": "code",
   "execution_count": 49,
   "metadata": {},
   "outputs": [],
   "source": [
    "df.drop(\"E Mail\",axis=1,inplace=True)    "
   ]
  },
  {
   "cell_type": "code",
   "execution_count": 51,
   "metadata": {},
   "outputs": [],
   "source": [
    "df.drop(\"Father's Name\",axis=1,inplace=True)    "
   ]
  },
  {
   "cell_type": "code",
   "execution_count": 56,
   "metadata": {},
   "outputs": [],
   "source": [
    "df.drop(\"Mother's Name\",axis=1,inplace=True)    "
   ]
  },
  {
   "cell_type": "code",
   "execution_count": 58,
   "metadata": {},
   "outputs": [],
   "source": [
    "df.drop(\"Mother's Maiden Name\",axis=1,inplace=True)    "
   ]
  },
  {
   "cell_type": "code",
   "execution_count": 59,
   "metadata": {},
   "outputs": [],
   "source": [
    "df.drop(\"Date of Birth\",axis=1,inplace=True)    "
   ]
  },
  {
   "cell_type": "code",
   "execution_count": 64,
   "metadata": {},
   "outputs": [],
   "source": [
    "df.drop(\"Time of Birth\",axis=1,inplace=True)    "
   ]
  },
  {
   "cell_type": "code",
   "execution_count": 72,
   "metadata": {},
   "outputs": [],
   "source": [
    "df.drop(\"Quarter of Joining\",axis=1,inplace=True) "
   ]
  },
  {
   "cell_type": "code",
   "execution_count": 70,
   "metadata": {},
   "outputs": [],
   "source": [
    "df.drop(\"Half of Joining\",axis=1,inplace=True) "
   ]
  },
  {
   "cell_type": "code",
   "execution_count": 71,
   "metadata": {},
   "outputs": [],
   "source": [
    "df.drop(\"Month Name of Joining\",axis=1,inplace=True) "
   ]
  },
  {
   "cell_type": "code",
   "execution_count": 76,
   "metadata": {},
   "outputs": [],
   "source": [
    "df.drop(\"Place Name\",axis=1,inplace=True) "
   ]
  },
  {
   "cell_type": "code",
   "execution_count": 82,
   "metadata": {},
   "outputs": [],
   "source": [
    "df.drop(\"County\",axis=1,inplace=True) "
   ]
  },
  {
   "cell_type": "code",
   "execution_count": 83,
   "metadata": {},
   "outputs": [],
   "source": [
    "df.drop(\"City\",axis=1,inplace=True)"
   ]
  },
  {
   "cell_type": "code",
   "execution_count": 84,
   "metadata": {},
   "outputs": [],
   "source": [
    "df.drop(\"State\",axis=1,inplace=True) "
   ]
  },
  {
   "cell_type": "code",
   "execution_count": 85,
   "metadata": {},
   "outputs": [],
   "source": [
    "df.drop(\"Region\",axis=1,inplace=True) "
   ]
  },
  {
   "cell_type": "code",
   "execution_count": 86,
   "metadata": {},
   "outputs": [],
   "source": [
    "df.drop(\"User Name\",axis=1,inplace=True) "
   ]
  },
  {
   "cell_type": "code",
   "execution_count": 87,
   "metadata": {},
   "outputs": [],
   "source": [
    "df.drop(\"Password\",axis=1,inplace=True) "
   ]
  },
  {
   "cell_type": "code",
   "execution_count": 92,
   "metadata": {},
   "outputs": [],
   "source": [
    "df.drop(\"Short DOW\",axis=1,inplace=True) "
   ]
  },
  {
   "cell_type": "code",
   "execution_count": 93,
   "metadata": {},
   "outputs": [],
   "source": [
    "df.drop(\"Day of Joining\",axis=1,inplace=True) "
   ]
  },
  {
   "cell_type": "code",
   "execution_count": 94,
   "metadata": {},
   "outputs": [],
   "source": [
    "df.drop(\"Short Month\",axis=1,inplace=True) "
   ]
  },
  {
   "cell_type": "code",
   "execution_count": 96,
   "metadata": {},
   "outputs": [],
   "source": [
    "df.drop(\"DOW of Joining\",axis=1,inplace=True) "
   ]
  },
  {
   "cell_type": "code",
   "execution_count": 100,
   "metadata": {},
   "outputs": [],
   "source": [
    "import sklearn\n",
    "from sklearn.preprocessing import LabelEncoder"
   ]
  },
  {
   "cell_type": "code",
   "execution_count": 102,
   "metadata": {},
   "outputs": [
    {
     "data": {
      "text/plain": [
       "0      0\n",
       "1      1\n",
       "2      0\n",
       "3      0\n",
       "4      0\n",
       "      ..\n",
       "995    0\n",
       "996    1\n",
       "997    0\n",
       "998    0\n",
       "999    0\n",
       "Name: Gender, Length: 1000, dtype: int32"
      ]
     },
     "execution_count": 102,
     "metadata": {},
     "output_type": "execute_result"
    }
   ],
   "source": [
    "le=LabelEncoder()\n",
    "df[\"Gender\"]=le.fit_transform(df[\"Gender\"])\n",
    "df[\"Gender\"]"
   ]
  },
  {
   "cell_type": "code",
   "execution_count": 103,
   "metadata": {},
   "outputs": [
    {
     "data": {
      "text/html": [
       "<div>\n",
       "<style scoped>\n",
       "    .dataframe tbody tr th:only-of-type {\n",
       "        vertical-align: middle;\n",
       "    }\n",
       "\n",
       "    .dataframe tbody tr th {\n",
       "        vertical-align: top;\n",
       "    }\n",
       "\n",
       "    .dataframe thead th {\n",
       "        text-align: right;\n",
       "    }\n",
       "</style>\n",
       "<table border=\"1\" class=\"dataframe\">\n",
       "  <thead>\n",
       "    <tr style=\"text-align: right;\">\n",
       "      <th></th>\n",
       "      <th>Gender</th>\n",
       "      <th>Age in Yrs.</th>\n",
       "      <th>Date of Joining</th>\n",
       "      <th>Year of Joining</th>\n",
       "      <th>Month of Joining</th>\n",
       "      <th>Age in Company (Years)</th>\n",
       "      <th>Salary</th>\n",
       "      <th>Last % Hike</th>\n",
       "      <th>SSN</th>\n",
       "      <th>Phone No.</th>\n",
       "      <th>Zip</th>\n",
       "    </tr>\n",
       "  </thead>\n",
       "  <tbody>\n",
       "    <tr>\n",
       "      <th>0</th>\n",
       "      <td>0</td>\n",
       "      <td>45.66</td>\n",
       "      <td>12/18/2010</td>\n",
       "      <td>2010</td>\n",
       "      <td>12</td>\n",
       "      <td>6.61</td>\n",
       "      <td>119090</td>\n",
       "      <td>17%</td>\n",
       "      <td>222-11-7603</td>\n",
       "      <td>702-771-7149</td>\n",
       "      <td>89128</td>\n",
       "    </tr>\n",
       "    <tr>\n",
       "      <th>1</th>\n",
       "      <td>1</td>\n",
       "      <td>23.76</td>\n",
       "      <td>4/25/2017</td>\n",
       "      <td>2017</td>\n",
       "      <td>4</td>\n",
       "      <td>0.26</td>\n",
       "      <td>117991</td>\n",
       "      <td>14%</td>\n",
       "      <td>550-99-9897</td>\n",
       "      <td>231-765-6923</td>\n",
       "      <td>49644</td>\n",
       "    </tr>\n",
       "    <tr>\n",
       "      <th>2</th>\n",
       "      <td>0</td>\n",
       "      <td>22.68</td>\n",
       "      <td>3/27/2017</td>\n",
       "      <td>2017</td>\n",
       "      <td>3</td>\n",
       "      <td>0.34</td>\n",
       "      <td>161045</td>\n",
       "      <td>28%</td>\n",
       "      <td>215-91-0004</td>\n",
       "      <td>270-749-4774</td>\n",
       "      <td>40501</td>\n",
       "    </tr>\n",
       "    <tr>\n",
       "      <th>3</th>\n",
       "      <td>0</td>\n",
       "      <td>41.70</td>\n",
       "      <td>2/25/2003</td>\n",
       "      <td>2003</td>\n",
       "      <td>2</td>\n",
       "      <td>14.43</td>\n",
       "      <td>142616</td>\n",
       "      <td>16%</td>\n",
       "      <td>534-71-1053</td>\n",
       "      <td>219-623-8216</td>\n",
       "      <td>46321</td>\n",
       "    </tr>\n",
       "    <tr>\n",
       "      <th>4</th>\n",
       "      <td>0</td>\n",
       "      <td>22.39</td>\n",
       "      <td>10-11-2016</td>\n",
       "      <td>2016</td>\n",
       "      <td>10</td>\n",
       "      <td>0.79</td>\n",
       "      <td>135706</td>\n",
       "      <td>11%</td>\n",
       "      <td>644-29-6396</td>\n",
       "      <td>907-677-8486</td>\n",
       "      <td>99709</td>\n",
       "    </tr>\n",
       "    <tr>\n",
       "      <th>...</th>\n",
       "      <td>...</td>\n",
       "      <td>...</td>\n",
       "      <td>...</td>\n",
       "      <td>...</td>\n",
       "      <td>...</td>\n",
       "      <td>...</td>\n",
       "      <td>...</td>\n",
       "      <td>...</td>\n",
       "      <td>...</td>\n",
       "      <td>...</td>\n",
       "      <td>...</td>\n",
       "    </tr>\n",
       "    <tr>\n",
       "      <th>995</th>\n",
       "      <td>0</td>\n",
       "      <td>32.01</td>\n",
       "      <td>01-07-2008</td>\n",
       "      <td>2008</td>\n",
       "      <td>1</td>\n",
       "      <td>9.56</td>\n",
       "      <td>72930</td>\n",
       "      <td>10%</td>\n",
       "      <td>064-02-6162</td>\n",
       "      <td>262-696-9171</td>\n",
       "      <td>53149</td>\n",
       "    </tr>\n",
       "    <tr>\n",
       "      <th>996</th>\n",
       "      <td>1</td>\n",
       "      <td>30.48</td>\n",
       "      <td>03-05-2010</td>\n",
       "      <td>2010</td>\n",
       "      <td>3</td>\n",
       "      <td>7.40</td>\n",
       "      <td>121949</td>\n",
       "      <td>16%</td>\n",
       "      <td>056-02-8240</td>\n",
       "      <td>231-629-0498</td>\n",
       "      <td>49325</td>\n",
       "    </tr>\n",
       "    <tr>\n",
       "      <th>997</th>\n",
       "      <td>0</td>\n",
       "      <td>59.88</td>\n",
       "      <td>2/20/2001</td>\n",
       "      <td>2001</td>\n",
       "      <td>2</td>\n",
       "      <td>16.44</td>\n",
       "      <td>82734</td>\n",
       "      <td>14%</td>\n",
       "      <td>343-11-1935</td>\n",
       "      <td>209-912-6705</td>\n",
       "      <td>95381</td>\n",
       "    </tr>\n",
       "    <tr>\n",
       "      <th>998</th>\n",
       "      <td>0</td>\n",
       "      <td>30.21</td>\n",
       "      <td>3/15/2012</td>\n",
       "      <td>2012</td>\n",
       "      <td>3</td>\n",
       "      <td>5.37</td>\n",
       "      <td>66854</td>\n",
       "      <td>9%</td>\n",
       "      <td>336-11-5030</td>\n",
       "      <td>203-224-9056</td>\n",
       "      <td>6910</td>\n",
       "    </tr>\n",
       "    <tr>\n",
       "      <th>999</th>\n",
       "      <td>0</td>\n",
       "      <td>59.78</td>\n",
       "      <td>1/17/1980</td>\n",
       "      <td>1980</td>\n",
       "      <td>1</td>\n",
       "      <td>37.55</td>\n",
       "      <td>105069</td>\n",
       "      <td>6%</td>\n",
       "      <td>101-02-6501</td>\n",
       "      <td>405-970-2341</td>\n",
       "      <td>73760</td>\n",
       "    </tr>\n",
       "  </tbody>\n",
       "</table>\n",
       "<p>1000 rows × 11 columns</p>\n",
       "</div>"
      ],
      "text/plain": [
       "     Gender  Age in Yrs. Date of Joining  Year of Joining  Month of Joining  \\\n",
       "0         0        45.66      12/18/2010             2010                12   \n",
       "1         1        23.76       4/25/2017             2017                 4   \n",
       "2         0        22.68       3/27/2017             2017                 3   \n",
       "3         0        41.70       2/25/2003             2003                 2   \n",
       "4         0        22.39      10-11-2016             2016                10   \n",
       "..      ...          ...             ...              ...               ...   \n",
       "995       0        32.01      01-07-2008             2008                 1   \n",
       "996       1        30.48      03-05-2010             2010                 3   \n",
       "997       0        59.88       2/20/2001             2001                 2   \n",
       "998       0        30.21       3/15/2012             2012                 3   \n",
       "999       0        59.78       1/17/1980             1980                 1   \n",
       "\n",
       "     Age in Company (Years)  Salary Last % Hike          SSN    Phone No.   \\\n",
       "0                      6.61  119090         17%  222-11-7603  702-771-7149   \n",
       "1                      0.26  117991         14%  550-99-9897  231-765-6923   \n",
       "2                      0.34  161045         28%  215-91-0004  270-749-4774   \n",
       "3                     14.43  142616         16%  534-71-1053  219-623-8216   \n",
       "4                      0.79  135706         11%  644-29-6396  907-677-8486   \n",
       "..                      ...     ...         ...          ...           ...   \n",
       "995                    9.56   72930         10%  064-02-6162  262-696-9171   \n",
       "996                    7.40  121949         16%  056-02-8240  231-629-0498   \n",
       "997                   16.44   82734         14%  343-11-1935  209-912-6705   \n",
       "998                    5.37   66854          9%  336-11-5030  203-224-9056   \n",
       "999                   37.55  105069          6%  101-02-6501  405-970-2341   \n",
       "\n",
       "       Zip  \n",
       "0    89128  \n",
       "1    49644  \n",
       "2    40501  \n",
       "3    46321  \n",
       "4    99709  \n",
       "..     ...  \n",
       "995  53149  \n",
       "996  49325  \n",
       "997  95381  \n",
       "998   6910  \n",
       "999  73760  \n",
       "\n",
       "[1000 rows x 11 columns]"
      ]
     },
     "execution_count": 103,
     "metadata": {},
     "output_type": "execute_result"
    }
   ],
   "source": [
    "df"
   ]
  },
  {
   "cell_type": "code",
   "execution_count": 106,
   "metadata": {},
   "outputs": [
    {
     "data": {
      "text/plain": [
       "<matplotlib.axes._subplots.AxesSubplot at 0x1a58467b6a0>"
      ]
     },
     "execution_count": 106,
     "metadata": {},
     "output_type": "execute_result"
    },
    {
     "data": {
      "image/png": "[encoded data removed]",
      "text/plain": [
       "<Figure size 432x288 with 1 Axes>"
      ]
     },
     "metadata": {
      "needs_background": "light"
     },
     "output_type": "display_data"
    }
   ],
   "source": [
    "sns.scatterplot(x=\"Age in Yrs.\",y=\"Salary\",data=df)"
   ]
  },
  {
   "cell_type": "code",
   "execution_count": 107,
   "metadata": {},
   "outputs": [
    {
     "data": {
      "text/plain": [
       "<matplotlib.axes._subplots.AxesSubplot at 0x1a584440940>"
      ]
     },
     "execution_count": 107,
     "metadata": {},
     "output_type": "execute_result"
    },
    {
     "data": {
      "image/png": "[encoded data removed]",
      "text/plain": [
       "<Figure size 432x288 with 1 Axes>"
      ]
     },
     "metadata": {
      "needs_background": "light"
     },
     "output_type": "display_data"
    }
   ],
   "source": [
    "sns.scatterplot(x=\"Year of Joining\",y=\"Salary\",data=df)"
   ]
  },
  {
   "cell_type": "code",
   "execution_count": 108,
   "metadata": {},
   "outputs": [
    {
     "data": {
      "text/plain": [
       "<matplotlib.axes._subplots.AxesSubplot at 0x1a5846e40a0>"
      ]
     },
     "execution_count": 108,
     "metadata": {},
     "output_type": "execute_result"
    },
    {
     "data": {
      "image/png": "[encoded data removed]",
      "text/plain": [
       "<Figure size 432x288 with 1 Axes>"
      ]
     },
     "metadata": {
      "needs_background": "light"
     },
     "output_type": "display_data"
    }
   ],
   "source": [
    "sns.scatterplot(x=\"Last % Hike\",y=\"Salary\",data=df)"
   ]
  },
  {
   "cell_type": "markdown",
   "metadata": {},
   "source": [
    "from the above plot we can know how columns are related to salary"
   ]
  },
  {
   "cell_type": "code",
   "execution_count": 125,
   "metadata": {},
   "outputs": [],
   "source": [
    "features = ['Gender','Age in Yrs.','Year of Joining','Month of Joining','Age in Company (Years)']\n",
    "x = df[features] #define training features set\n",
    "y = df['Salary'] #define training label set\n"
   ]
  },
  {
   "cell_type": "code",
   "execution_count": 114,
   "metadata": {},
   "outputs": [],
   "source": [
    "from sklearn.model_selection import train_test_split"
   ]
  },
  {
   "cell_type": "code",
   "execution_count": 126,
   "metadata": {},
   "outputs": [],
   "source": [
    "x_train,x_test,y_train,y_test=train_test_split(x,y,test_size=.33,random_state=42)"
   ]
  },
  {
   "cell_type": "code",
   "execution_count": 122,
   "metadata": {},
   "outputs": [],
   "source": [
    "from sklearn.linear_model import LinearRegression\n",
    "from sklearn.metrics import mean_squared_error, mean_absolute_error"
   ]
  },
  {
   "cell_type": "code",
   "execution_count": 123,
   "metadata": {},
   "outputs": [],
   "source": [
    "lm=LinearRegression()"
   ]
  },
  {
   "cell_type": "code",
   "execution_count": 127,
   "metadata": {},
   "outputs": [
    {
     "data": {
      "text/plain": [
       "LinearRegression()"
      ]
     },
     "execution_count": 127,
     "metadata": {},
     "output_type": "execute_result"
    }
   ],
   "source": [
    "lm.fit(x_train,y_train)"
   ]
  },
  {
   "cell_type": "code",
   "execution_count": 128,
   "metadata": {},
   "outputs": [
    {
     "data": {
      "text/plain": [
       "array([ 3165.70024851,    71.13341838, 12641.3128119 ,   802.49026075,\n",
       "       13001.92911156])"
      ]
     },
     "execution_count": 128,
     "metadata": {},
     "output_type": "execute_result"
    }
   ],
   "source": [
    "lm.coef_"
   ]
  },
  {
   "cell_type": "code",
   "execution_count": 129,
   "metadata": {},
   "outputs": [
    {
     "data": {
      "text/plain": [
       "0.008121864603647722"
      ]
     },
     "execution_count": 129,
     "metadata": {},
     "output_type": "execute_result"
    }
   ],
   "source": [
    "lm.score(x_train,y_train)"
   ]
  },
  {
   "cell_type": "code",
   "execution_count": 130,
   "metadata": {},
   "outputs": [
    {
     "name": "stdout",
     "output_type": "stream",
     "text": [
      "predict result price [116898.47458934 120106.9775848  122716.20117171 124270.5933989\n",
      " 127398.66383292 120303.19464465 121193.48676899 125306.28389392\n",
      " 124132.13843806 120098.84331254 125090.30378595 122855.65690355\n",
      " 123465.0653176  115811.01360049 113467.19148528 124755.81764812\n",
      " 118606.88430399 125389.98814508 121435.13038202 126105.28250921\n",
      " 114492.05982838 122177.25728934 118304.40653958 116244.80475666\n",
      " 119592.99203685 119765.13953895 119758.11603617 115794.12657611\n",
      " 129203.68419161 116828.61101189 118498.1521961  125328.11808899\n",
      " 135201.47292397 120495.82007388 123789.84594478 117671.91969804\n",
      " 125244.12094777 118182.366789   121007.83596778 118955.56085659\n",
      " 117803.24168695 125860.18398191 116772.36335073 118145.08563076\n",
      " 118146.41652962 123878.40070193 120626.02298607 124745.77130036\n",
      " 121493.41636103 124113.24214413 119023.48129931 118726.44691224\n",
      " 124962.07252562 116211.03084069 118155.46465774 117306.4950743\n",
      " 127085.40129486 119363.20763068 116245.95990406 130823.83155105\n",
      " 126694.71986315 120207.07932042 121106.72001647 121592.48819686\n",
      " 115650.7789686  126292.61559089 118010.42889797 116451.08704032\n",
      " 126288.59038507 129143.69280028 132480.81716634 117181.80016653\n",
      " 121513.04204412 116140.32508484 117645.43408046 116125.02101628\n",
      " 115316.53035303 123874.84609424 127601.64954588 116254.08426964\n",
      " 117595.09560619 119427.61316169 124870.54508001 122559.21620707\n",
      " 123271.86447689 119707.86540475 118243.61173778 117703.52261468\n",
      " 122625.90597551 114701.36036826 125514.55470767 127037.06070188\n",
      " 128126.77455448 128737.64968187 120925.40155753 123343.60392638\n",
      " 130570.11304629 125313.45694329 118076.28543121 120473.06943038\n",
      " 129038.6164878  126021.6824763  128071.15301649 122237.15421198\n",
      " 123979.90242131 123001.76667544 120986.61052916 129064.77826274\n",
      " 115095.33092375 121947.63246925 124175.98391538 122643.2133483\n",
      " 121559.35721686 121062.56432201 125712.982051   120820.91184624\n",
      " 120494.05344466 118376.42148627 118508.95146486 124873.41312751\n",
      " 122748.62489168 119066.34195615 124801.74464104 129288.13732923\n",
      " 120168.06193006 122774.87519775 120017.73710198 120490.79241531\n",
      " 117795.92912883 119958.79083342 125589.0397089  126144.62374221\n",
      " 117447.98059043 120679.50309915 117781.38671154 126201.86787768\n",
      " 120000.66508157 119195.8832284  125583.49102848 128319.39916264\n",
      " 119485.78373273 126565.56282938 128155.43901449 118835.43783731\n",
      " 120805.58157441 124955.98363286 115610.35302349 123117.34008119\n",
      " 122940.47666047 118230.10777654 120742.91388991 123824.4458492\n",
      " 116812.09151979 123638.85482255 125454.64083943 122904.25159216\n",
      " 122242.29652481 119078.35756144 121803.65253384 125339.33101329\n",
      " 117448.39834628 128654.13055952 125935.61159554 116168.48881521\n",
      " 117414.22269236 123988.61328144 118573.49584248 117564.82383711\n",
      " 116858.11107712 118870.4776267  125357.98273645 120143.29255919\n",
      " 123706.84525171 117877.27069178 122313.06569013 116285.82951229\n",
      " 119082.6544559  124596.07866739 126934.12233331 120781.47670003\n",
      " 119488.70741362 119370.11191693 116459.34617836 128248.67736273\n",
      " 117528.48812327 120322.37913324 116463.61812482 122299.63893754\n",
      " 118572.76452289 115329.25591754 114546.58050197 115924.58236632\n",
      " 117827.97337276 119221.95516427 115908.89621606 117663.47995417\n",
      " 117413.37468142 116179.65572288 119291.52381459 116840.67152442\n",
      " 118911.53455092 116770.54315136 120630.46187358 122412.35699325\n",
      " 122680.98046045 123115.82281134 124057.38808574 121937.72322093\n",
      " 115030.84694196 123772.05120192 123071.28438776 131285.42907757\n",
      " 117523.43033319 115559.3997208  117600.98742638 120255.58426189\n",
      " 114227.73246072 114450.3679837  124654.92100944 122740.19759658\n",
      " 122118.17437019 120985.11335135 117976.83939638 121988.61964646\n",
      " 118688.22189942 115514.83772578 114485.19119011 128355.03831803\n",
      " 117611.66807336 122354.82200479 120828.95302476 118389.36694076\n",
      " 116719.11803454 118942.26460215 125504.45255285 124401.37631099\n",
      " 118566.00854108 118217.53583438 119888.53706523 120354.67136159\n",
      " 122284.10689775 129299.45706435 114945.86090611 117601.72337561\n",
      " 119893.25949161 119734.86324687 122671.40382431 125750.70826462\n",
      " 130281.03797491 131011.99784177 121523.76286208 116870.4094018\n",
      " 120747.1925966  117008.98085382 128530.45567134 119648.73223588\n",
      " 125665.11015186 118889.03530386 125826.28329586 117693.66405406\n",
      " 115600.24207297 116889.98091998 119070.7004886  114854.29721776\n",
      " 132151.78796398 119066.80586142 116432.63863375 120610.46961046\n",
      " 119267.35391475 124024.82968683 125978.65173195 120682.43105436\n",
      " 127084.70010678 123599.69710399 123490.72222298 120700.14590411\n",
      " 117942.32128935 120928.62827459 119825.60101413 128085.88312899\n",
      " 118376.81826324 119233.74263937 123562.36323626 130960.3794871\n",
      " 120351.29516369 121209.58004088 118043.06178016 129177.24281917\n",
      " 119434.7432097  126048.56759619 126352.8456812  132718.7555141\n",
      " 118118.68588472 116341.41008439 116389.81838731 115739.41627685\n",
      " 121750.05448565 118233.72947292 122936.51841055 121892.30845255\n",
      " 124628.82084633 118322.69456517 122372.82804047 116555.90453561\n",
      " 119641.49212398 124985.16231522 116810.09636386 117876.2737555\n",
      " 120642.68066266 129241.6189727  132818.84506654 124230.18606424\n",
      " 115738.05183444 125714.88683855 116742.55178499 128783.91053074\n",
      " 120813.78248651 120296.22861378 121588.52001411 120636.93497704\n",
      " 121091.44535188 115580.5848818  119174.09928303 123948.94944956\n",
      " 124867.40944578 121111.03033626 120963.80414563 123306.79967765\n",
      " 121937.86286085 116549.70177039]\n",
      "actual price 521    109805\n",
      "737     98383\n",
      "740    169164\n",
      "660    163337\n",
      "411    134013\n",
      "        ...  \n",
      "506    105034\n",
      "342    183123\n",
      "485    166948\n",
      "711     55874\n",
      "133    136817\n",
      "Name: Salary, Length: 330, dtype: int64\n"
     ]
    }
   ],
   "source": [
    "#predict the value\n",
    "pred=lm.predict(x_test)\n",
    "print(\"predict result price\",pred)\n",
    "print(\"actual price\",y_test)"
   ]
  },
  {
   "cell_type": "code",
   "execution_count": 131,
   "metadata": {},
   "outputs": [
    {
     "name": "stdout",
     "output_type": "stream",
     "text": [
      "error:\n",
      "mean absolute error 39468.017352155155\n",
      "mean squared error 2059388971.0784557\n",
      "root mean squared error 45380.49108458893\n"
     ]
    }
   ],
   "source": [
    "print(\"error:\")\n",
    "\n",
    "print(\"mean absolute error\",mean_absolute_error(y_test,pred))\n",
    "print(\"mean squared error\",mean_squared_error(y_test,pred))\n",
    "print(\"root mean squared error\",np.sqrt(mean_squared_error(y_test,pred)))"
   ]
  },
  {
   "cell_type": "code",
   "execution_count": 132,
   "metadata": {},
   "outputs": [
    {
     "name": "stdout",
     "output_type": "stream",
     "text": [
      "-0.006500169719470428\n"
     ]
    }
   ],
   "source": [
    "from sklearn.metrics import r2_score\n",
    "print(r2_score(y_test,pred))"
   ]
  },
  {
   "cell_type": "code",
   "execution_count": null,
   "metadata": {},
   "outputs": [],
   "source": []
  }
 ],
 "metadata": {
  "kernelspec": {
   "display_name": "Python 3",
   "language": "python",
   "name": "python3"
  },
  "language_info": {
   "codemirror_mode": {
    "name": "ipython",
    "version": 3
   },
   "file_extension": ".py",
   "mimetype": "text/x-python",
   "name": "python",
   "nbconvert_exporter": "python",
   "pygments_lexer": "ipython3",
   "version": "3.8.3"
  }
 },
 "nbformat": 4,
 "nbformat_minor": 4
}
